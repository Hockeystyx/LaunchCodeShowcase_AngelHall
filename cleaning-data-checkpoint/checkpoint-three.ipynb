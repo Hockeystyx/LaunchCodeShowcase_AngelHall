{
 "cells": [
  {
   "cell_type": "markdown",
   "metadata": {
    "azdata_cell_guid": "26037d32-2047-4157-81ef-595916bd66a0"
   },
   "source": [
    "# Checkpoint Three: Cleaning Data\n",
    "\n",
    "Now you are ready to clean your data. Before starting coding, provide the link to your dataset below.\n",
    "\n",
    "My dataset: https://www.kaggle.com/datasets/thomaskonstantin/top-850-guitar-tabs?select=gutiarDB.csv\n",
    "\n",
    "Import the necessary libraries and create your dataframe(s)."
   ]
  },
  {
   "cell_type": "code",
   "execution_count": 10,
   "metadata": {
    "azdata_cell_guid": "e8adef8e-d0f2-4640-a179-5997f11e82ca"
   },
   "outputs": [
    {
     "data": {
      "text/html": [
       "<div>\n",
       "<style scoped>\n",
       "    .dataframe tbody tr th:only-of-type {\n",
       "        vertical-align: middle;\n",
       "    }\n",
       "\n",
       "    .dataframe tbody tr th {\n",
       "        vertical-align: top;\n",
       "    }\n",
       "\n",
       "    .dataframe thead th {\n",
       "        text-align: right;\n",
       "    }\n",
       "</style>\n",
       "<table border=\"1\" class=\"dataframe\">\n",
       "  <thead>\n",
       "    <tr style=\"text-align: right;\">\n",
       "      <th></th>\n",
       "      <th>Artist</th>\n",
       "      <th>Song Name</th>\n",
       "      <th>Song Rating</th>\n",
       "      <th>Song Hits</th>\n",
       "      <th>Page Type</th>\n",
       "      <th>Difficulty</th>\n",
       "      <th>Key</th>\n",
       "      <th>Capo</th>\n",
       "      <th>Tuning</th>\n",
       "    </tr>\n",
       "  </thead>\n",
       "  <tbody>\n",
       "    <tr>\n",
       "      <th>0</th>\n",
       "      <td>Jeff Buckley</td>\n",
       "      <td>Hallelujah</td>\n",
       "      <td>40,045</td>\n",
       "      <td>31,174,526</td>\n",
       "      <td>Chords</td>\n",
       "      <td>novice</td>\n",
       "      <td>Db</td>\n",
       "      <td>1st fret</td>\n",
       "      <td>E A D G B E</td>\n",
       "    </tr>\n",
       "    <tr>\n",
       "      <th>1</th>\n",
       "      <td>Ed Sheeran</td>\n",
       "      <td>Perfect</td>\n",
       "      <td>31,694</td>\n",
       "      <td>25,794,778</td>\n",
       "      <td>Chords</td>\n",
       "      <td>novice</td>\n",
       "      <td>Ab</td>\n",
       "      <td>1st fret</td>\n",
       "      <td>E A D G B E</td>\n",
       "    </tr>\n",
       "    <tr>\n",
       "      <th>2</th>\n",
       "      <td>John Legend</td>\n",
       "      <td>All Of Me</td>\n",
       "      <td>20,169</td>\n",
       "      <td>25,653,362</td>\n",
       "      <td>Chords</td>\n",
       "      <td>novice</td>\n",
       "      <td>Fm</td>\n",
       "      <td>1st fret</td>\n",
       "      <td>E A D G B E</td>\n",
       "    </tr>\n",
       "    <tr>\n",
       "      <th>3</th>\n",
       "      <td>Passenger</td>\n",
       "      <td>Let Her Go</td>\n",
       "      <td>17,267</td>\n",
       "      <td>24,556,593</td>\n",
       "      <td>Chords</td>\n",
       "      <td>novice</td>\n",
       "      <td>Em</td>\n",
       "      <td>7th fret</td>\n",
       "      <td>E A D G B E</td>\n",
       "    </tr>\n",
       "    <tr>\n",
       "      <th>4</th>\n",
       "      <td>Led Zeppelin</td>\n",
       "      <td>Stairway To Heaven</td>\n",
       "      <td>11,839</td>\n",
       "      <td>20,762,763</td>\n",
       "      <td>Tab</td>\n",
       "      <td>intermediate</td>\n",
       "      <td>Am</td>\n",
       "      <td>No Capo</td>\n",
       "      <td>E A D G B E</td>\n",
       "    </tr>\n",
       "  </tbody>\n",
       "</table>\n",
       "</div>"
      ],
      "text/plain": [
       "         Artist           Song Name Song Rating   Song Hits Page Type  \\\n",
       "0  Jeff Buckley         Hallelujah       40,045  31,174,526    Chords   \n",
       "1    Ed Sheeran             Perfect      31,694  25,794,778    Chords   \n",
       "2   John Legend           All Of Me      20,169  25,653,362    Chords   \n",
       "3     Passenger          Let Her Go      17,267  24,556,593    Chords   \n",
       "4  Led Zeppelin  Stairway To Heaven      11,839  20,762,763       Tab   \n",
       "\n",
       "     Difficulty  Key       Capo        Tuning  \n",
       "0        novice   Db   1st fret   E A D G B E  \n",
       "1        novice   Ab   1st fret   E A D G B E  \n",
       "2        novice   Fm   1st fret   E A D G B E  \n",
       "3        novice   Em   7th fret   E A D G B E  \n",
       "4  intermediate   Am    No Capo   E A D G B E  "
      ]
     },
     "execution_count": 10,
     "metadata": {},
     "output_type": "execute_result"
    }
   ],
   "source": [
    "import pandas as pd\n",
    "import numpy as np\n",
    "import matplotlib as plt\n",
    "import seaborn as sns\n",
    "\n",
    "df = pd.read_csv('guitarDB.csv')   #importing all libraries and dataset.\n",
    "\n",
    "df.head()  # viewing columns and understanding what the data looks like."
   ]
  },
  {
   "cell_type": "markdown",
   "metadata": {
    "azdata_cell_guid": "e172475a-c4ee-414a-8367-9965355dbba6"
   },
   "source": [
    "## Missing Data\n",
    "\n",
    "Test your dataset for missing data and handle it as needed. Make notes in the form of code comments as to your thought process."
   ]
  },
  {
   "cell_type": "code",
   "execution_count": 11,
   "metadata": {
    "azdata_cell_guid": "e1dc66ef-e471-4c27-92e7-ee878c106eba",
    "scrolled": true
   },
   "outputs": [
    {
     "name": "stdout",
     "output_type": "stream",
     "text": [
      "<class 'pandas.core.frame.DataFrame'>\n",
      "RangeIndex: 850 entries, 0 to 849\n",
      "Data columns (total 9 columns):\n",
      " #   Column       Non-Null Count  Dtype \n",
      "---  ------       --------------  ----- \n",
      " 0   Artist       850 non-null    object\n",
      " 1   Song Name    850 non-null    object\n",
      " 2   Song Rating  850 non-null    object\n",
      " 3   Song Hits    850 non-null    object\n",
      " 4   Page Type    850 non-null    object\n",
      " 5   Difficulty   850 non-null    object\n",
      " 6   Key          850 non-null    object\n",
      " 7   Capo         850 non-null    object\n",
      " 8   Tuning       850 non-null    object\n",
      "dtypes: object(9)\n",
      "memory usage: 59.9+ KB\n"
     ]
    }
   ],
   "source": [
    "# checking for null/missing data - will check by having pandas locate columns with null values.\n",
    "df.info(verbose=True)\n"
   ]
  },
  {
   "cell_type": "markdown",
   "metadata": {
    "azdata_cell_guid": "1233f543-e9a0-4f78-96f5-d7536554102e"
   },
   "source": [
    "## Irregular Data\n",
    "\n",
    "Detect outliers in your dataset and handle them as needed. Use code comments to make notes about your thought process."
   ]
  },
  {
   "cell_type": "code",
   "execution_count": 13,
   "metadata": {
    "azdata_cell_guid": "efed50ae-16f0-471d-98e2-632553a74c12",
    "scrolled": true
   },
   "outputs": [
    {
     "data": {
      "text/plain": [
       "count              850\n",
       "unique             342\n",
       "top       Taylor Swift\n",
       "freq                27\n",
       "Name: Artist, dtype: object"
      ]
     },
     "execution_count": 13,
     "metadata": {},
     "output_type": "execute_result"
    }
   ],
   "source": [
    "df['Artist'].describe()\n",
    "# Running by each column - Artist: Yes this tells me the top, but it also tells me out of 850 data entries, \n",
    "#342 of the artists are UNIQUE."
   ]
  },
  {
   "cell_type": "code",
   "execution_count": 14,
   "metadata": {},
   "outputs": [
    {
     "data": {
      "text/plain": [
       "count             850\n",
       "unique            752\n",
       "top       Wonderwall \n",
       "freq                4\n",
       "Name: Song Name, dtype: object"
      ]
     },
     "execution_count": 14,
     "metadata": {},
     "output_type": "execute_result"
    }
   ],
   "source": [
    "df['Song Name'].describe()\n",
    "# Running by each column - Song Name: This tells me the top song, and how many times it appears. 752 Unique songs - \n",
    "#obviously Wonderwall is a duplicate. Possible others who are duplicated less than 4 times?"
   ]
  },
  {
   "cell_type": "code",
   "execution_count": 22,
   "metadata": {},
   "outputs": [
    {
     "data": {
      "text/plain": [
       "count       850\n",
       "unique      751\n",
       "top       2,473\n",
       "freq          4\n",
       "Name: Song Rating, dtype: object"
      ]
     },
     "execution_count": 22,
     "metadata": {},
     "output_type": "execute_result"
    }
   ],
   "source": [
    "df['Song Rating'].describe()\n",
    "# Running by each column - Song Rating: Top rated song was given 2,473 of the highest votes.\n",
    "# I find the 'unique' curious: is that how many different users rated it, or how many unique songs got ratings?\n",
    "# The frequency of 4...could be possible 4 star ratings to define the rating system scale."
   ]
  },
  {
   "cell_type": "code",
   "execution_count": 16,
   "metadata": {},
   "outputs": [
    {
     "data": {
      "text/plain": [
       "count           850\n",
       "unique          849\n",
       "top       1,556,006\n",
       "freq              2\n",
       "Name: Song Hits, dtype: object"
      ]
     },
     "execution_count": 16,
     "metadata": {},
     "output_type": "execute_result"
    }
   ],
   "source": [
    "df['Song Hits'].describe()\n",
    "# Running by each column - Song Hits: THis one outed a duplicate. 850 songs, and 849 of them are unique."
   ]
  },
  {
   "cell_type": "code",
   "execution_count": 17,
   "metadata": {},
   "outputs": [
    {
     "data": {
      "text/plain": [
       "count        850\n",
       "unique         5\n",
       "top       Chords\n",
       "freq         680\n",
       "Name: Page Type, dtype: object"
      ]
     },
     "execution_count": 17,
     "metadata": {},
     "output_type": "execute_result"
    }
   ],
   "source": [
    "df['Page Type'].describe()\n",
    "# Running by each column - Page Type: This means Tabs or Chord notations. It appears users prefer\n",
    "#Chords instead of tabulature."
   ]
  },
  {
   "cell_type": "code",
   "execution_count": 18,
   "metadata": {},
   "outputs": [
    {
     "data": {
      "text/plain": [
       "count              850\n",
       "unique               6\n",
       "top       intermediate\n",
       "freq               510\n",
       "Name: Difficulty, dtype: object"
      ]
     },
     "execution_count": 18,
     "metadata": {},
     "output_type": "execute_result"
    }
   ],
   "source": [
    "df['Difficulty'].describe()\n",
    "# Running by each column - Song Difficulty: 6 Unique 'difficulty values' most are intermediate, \n",
    "# and that seems to appear 510 times."
   ]
  },
  {
   "cell_type": "code",
   "execution_count": 19,
   "metadata": {},
   "outputs": [
    {
     "data": {
      "text/plain": [
       "count     850\n",
       "unique     30\n",
       "top        Db\n",
       "freq      235\n",
       "Name: Key, dtype: object"
      ]
     },
     "execution_count": 19,
     "metadata": {},
     "output_type": "execute_result"
    }
   ],
   "source": [
    "df['Key'].describe()\n",
    "# Running by each column - Song Key: This should be more limited, as there are only X amount of possibilities.\n",
    "# THe TOP Key is in Db (D-Flat), which appeared 235 times - or roughly about 25% of the total."
   ]
  },
  {
   "cell_type": "code",
   "execution_count": 23,
   "metadata": {},
   "outputs": [
    {
     "data": {
      "text/plain": [
       "count         850\n",
       "unique         16\n",
       "top       No Capo\n",
       "freq          549\n",
       "Name: Capo, dtype: object"
      ]
     },
     "execution_count": 23,
     "metadata": {},
     "output_type": "execute_result"
    }
   ],
   "source": [
    "df['Capo'].describe()\n",
    "# Running by each column - Guitar Capo Device: Capos are things that go onto a guitar neck to change\n",
    "# the fretboard tones - this also expands the notes and sounds a guitar can make by holding down all \n",
    "# of the strings at once. Over half of the songs are No Capo preferred.  \n",
    "# If an advertiser wanted to offer a learn to Capo, this would be a target placement for the ad. \n",
    "# If an advertiser wanted to offer a new kind of capo, reverse to placements to everyone except this group."
   ]
  },
  {
   "cell_type": "code",
   "execution_count": 21,
   "metadata": {},
   "outputs": [
    {
     "data": {
      "text/plain": [
       "count              850\n",
       "unique              18\n",
       "top        E A D G B E\n",
       "freq               616\n",
       "Name: Tuning, dtype: object"
      ]
     },
     "execution_count": 21,
     "metadata": {},
     "output_type": "execute_result"
    }
   ],
   "source": [
    "df['Tuning'].describe()\n",
    "# Running by each column - Guitar Tuning (Standard and other): Altering the tune by turning the pegs on\n",
    "#the guitar can make even more sounds and styles possible. It is no surprise that the TOP tuning is the\n",
    "#standard EADGBE format- but what is curious is of an 850 count, 234 were custom/non-standard tunings!\n",
    "# Hypothesis-- those 234 are Difficult/ hard skill level."
   ]
  },
  {
   "cell_type": "markdown",
   "metadata": {
    "azdata_cell_guid": "6f5b8ee0-bab3-44bc-958a-67d1e4c0407f"
   },
   "source": [
    "## Unnecessary Data\n",
    "\n",
    "Look for the different types of unnecessary data in your dataset and address it as needed. Make sure to use code comments to illustrate your thought process."
   ]
  },
  {
   "cell_type": "code",
   "execution_count": null,
   "metadata": {},
   "outputs": [],
   "source": [
    "#Nearly every piece of data has content.\n"
   ]
  },
  {
   "cell_type": "code",
   "execution_count": null,
   "metadata": {
    "azdata_cell_guid": "e788a239-2fbf-41de-9bd3-19e52e3b187c"
   },
   "outputs": [],
   "source": []
  },
  {
   "cell_type": "markdown",
   "metadata": {
    "azdata_cell_guid": "53e0cf94-c68a-4fa0-9849-9505a66bcce6"
   },
   "source": [
    "## Inconsistent Data\n",
    "\n",
    "Check for inconsistent data and address any that arises. As always, use code comments to illustrate your thought process."
   ]
  },
  {
   "cell_type": "code",
   "execution_count": null,
   "metadata": {
    "azdata_cell_guid": "e9de6624-812a-43f8-8e20-93b4a49b091f"
   },
   "outputs": [],
   "source": []
  },
  {
   "cell_type": "markdown",
   "metadata": {
    "azdata_cell_guid": "dedc0bfe-17d0-40b2-914f-2ddb54f9ce0d"
   },
   "source": [
    "## Summarize Your Results\n",
    "\n",
    "Make note of your answers to the following questions.\n",
    "\n",
    "1. Did you find all four types of dirty data in your dataset?\n",
    "2. Did the process of cleaning your data give you new insights into your dataset?\n",
    "3. Is there anything you would like to make note of when it comes to manipulating the data and making visualizations?"
   ]
  }
 ],
 "metadata": {
  "kernelspec": {
   "display_name": "Python 3 (ipykernel)",
   "language": "python",
   "name": "python3"
  },
  "language_info": {
   "codemirror_mode": {
    "name": "ipython",
    "version": 3
   },
   "file_extension": ".py",
   "mimetype": "text/x-python",
   "name": "python",
   "nbconvert_exporter": "python",
   "pygments_lexer": "ipython3",
   "version": "3.11.1"
  }
 },
 "nbformat": 4,
 "nbformat_minor": 2
}
