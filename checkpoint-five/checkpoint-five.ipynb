{
    "metadata": {
        "kernelspec": {
            "name": "python3",
            "display_name": "Python 3 (ipykernel)",
            "language": "python"
        },
        "language_info": {
            "name": "python",
            "version": "3.11.1",
            "mimetype": "text/x-python",
            "codemirror_mode": {
                "name": "ipython",
                "version": 3
            },
            "pygments_lexer": "ipython3",
            "nbconvert_exporter": "python",
            "file_extension": ".py"
        }
    },
    "nbformat_minor": 2,
    "nbformat": 4,
    "cells": [
        {
            "cell_type": "markdown",
            "source": [
                "# Checkpoint Five: Modeling Data\n",
                "\n",
                "With your visualizations ready to go, the final step in your project is to do some predictive analysis on your dataset. You will be using linear regression for your model. You will not be penalized if your linear regression model does not work out. You just need to build the model and make notes as to the results.\n",
                "\n",
                "Link to my dataset:\n",
                "\n",
                "[Top 850 Guitar Tabs | Kaggle](https:\\www.kaggle.com\\datasets\\thomaskonstantin\\top-850-guitar-tabs)\n",
                "\n",
                "[Online Sales in USA | Kaggle](https://www.kaggle.com/datasets/ytgangster/online-sales-in-usa?resource=download)  \n",
                "\n",
                "## Prepare Your Dataframe\n",
                "\n",
                "Import any libraries you need and create a dataframe."
            ],
            "metadata": {
                "azdata_cell_guid": "c9a57f69-e372-43d2-94fc-ab1a9097069f"
            },
            "attachments": {}
        },
        {
            "cell_type": "code",
            "source": [
                "import numpy as np\r\n",
                "import pandas as pd\r\n",
                "import seaborn as sns\r\n",
                "import matplotlib.pyplot as plt\r\n",
                "\r\n",
                "from sklearn.model_selection import train_test_split\r\n",
                "import statsmodels.api as sm \r\n",
                "sns.set_style('darkgrid')\r\n",
                "sns.set(font_scale=1.5)\r\n",
                "\r\n",
                "df1 = pd.read_csv(\"guitarDB.csv\")\r\n",
                "df2 = pd.read_csv(\"sales_cleaned.csv\")\r\n",
                "\r\n",
                "the_df = df1.append(\"sales_cleaned.csv\")\r\n",
                "the_df.shape()\r\n",
                "the_df.info()\r\n",
                "the_df.head()\r\n",
                ""
            ],
            "metadata": {
                "azdata_cell_guid": "f9287db4-8af9-4bce-9a54-ffeeee0e045f",
                "language": "python",
                "tags": []
            },
            "outputs": [
                {
                    "traceback": [
                        "\u001b[1;31m---------------------------------------------------------------------------\u001b[0m",
                        "\u001b[1;31mModuleNotFoundError\u001b[0m                       Traceback (most recent call last)",
                        "Cell \u001b[1;32mIn[7], line 5\u001b[0m\n\u001b[0;32m      3\u001b[0m \u001b[38;5;28;01mimport\u001b[39;00m \u001b[38;5;21;01mseaborn\u001b[39;00m \u001b[38;5;28;01mas\u001b[39;00m \u001b[38;5;21;01msns\u001b[39;00m\n\u001b[0;32m      4\u001b[0m \u001b[38;5;28;01mimport\u001b[39;00m \u001b[38;5;21;01mmatplotlib\u001b[39;00m\u001b[38;5;21;01m.\u001b[39;00m\u001b[38;5;21;01mpyplot\u001b[39;00m \u001b[38;5;28;01mas\u001b[39;00m \u001b[38;5;21;01mplt\u001b[39;00m\n\u001b[1;32m----> 5\u001b[0m \u001b[38;5;28;01mfrom\u001b[39;00m \u001b[38;5;21;01msklearn\u001b[39;00m\u001b[38;5;21;01m.\u001b[39;00m\u001b[38;5;21;01mmodel_selection\u001b[39;00m \u001b[38;5;28;01mimport\u001b[39;00m train_test_split\n\u001b[0;32m      6\u001b[0m \u001b[38;5;28;01mimport\u001b[39;00m \u001b[38;5;21;01mstatsmodels\u001b[39;00m\u001b[38;5;21;01m.\u001b[39;00m\u001b[38;5;21;01mapi\u001b[39;00m \u001b[38;5;28;01mas\u001b[39;00m \u001b[38;5;21;01msm\u001b[39;00m \n\u001b[0;32m      7\u001b[0m sns\u001b[38;5;241m.\u001b[39mset_style(\u001b[38;5;124m'\u001b[39m\u001b[38;5;124mdarkgrid\u001b[39m\u001b[38;5;124m'\u001b[39m)\n",
                        "\u001b[1;31mModuleNotFoundError\u001b[0m: No module named 'sklearn'"
                    ],
                    "ename": "ModuleNotFoundError",
                    "evalue": "No module named 'sklearn'",
                    "output_type": "error"
                }
            ],
            "execution_count": 7
        },
        {
            "cell_type": "markdown",
            "source": [
                "## Find Correlations\n",
                "\n",
                "Use either pairplot or a heatmap or both to find the two variables with the strongest correlation in your dataset."
            ],
            "metadata": {
                "azdata_cell_guid": "d794ffe0-9cd3-4812-bc7d-f75460cf611c"
            }
        },
        {
            "cell_type": "code",
            "source": [
                "sns.pairplot(the_df(), x_vars= ['Song Hits', 'Rating', 'Chords'], y_vars='qty_ordered', size=3, aspect=1, kind='scatter')\r\n",
                "\r\n",
                "plt.show()\r\n",
                "\r\n",
                "sns.heatmap(the_df.corr(), cmap=\"YlGnBu\", annot = True)\r\n",
                "\r\n",
                "plt.show()"
            ],
            "metadata": {
                "azdata_cell_guid": "b009376d-9eb1-4cf0-9487-f0ddc3dbc1cd",
                "language": "python",
                "tags": []
            },
            "outputs": [
                {
                    "output_type": "error",
                    "ename": "NameError",
                    "evalue": "name 'the_df' is not defined",
                    "traceback": [
                        "\u001b[1;31m---------------------------------------------------------------------------\u001b[0m",
                        "\u001b[1;31mNameError\u001b[0m                                 Traceback (most recent call last)",
                        "Cell \u001b[1;32mIn[5], line 1\u001b[0m\n\u001b[1;32m----> 1\u001b[0m sns\u001b[38;5;241m.\u001b[39mpairplot(\u001b[43mthe_df\u001b[49m(), x_vars\u001b[38;5;241m=\u001b[39m [\u001b[38;5;124m'\u001b[39m\u001b[38;5;124mSong Hits\u001b[39m\u001b[38;5;124m'\u001b[39m, \u001b[38;5;124m'\u001b[39m\u001b[38;5;124mRating\u001b[39m\u001b[38;5;124m'\u001b[39m, \u001b[38;5;124m'\u001b[39m\u001b[38;5;124mChords\u001b[39m\u001b[38;5;124m'\u001b[39m], y_vars\u001b[38;5;241m=\u001b[39m\u001b[38;5;124m'\u001b[39m\u001b[38;5;124mqty_ordered\u001b[39m\u001b[38;5;124m'\u001b[39m, size\u001b[38;5;241m=\u001b[39m\u001b[38;5;241m3\u001b[39m, aspect\u001b[38;5;241m=\u001b[39m\u001b[38;5;241m1\u001b[39m, kind\u001b[38;5;241m=\u001b[39m\u001b[38;5;124m'\u001b[39m\u001b[38;5;124mscatter\u001b[39m\u001b[38;5;124m'\u001b[39m)\n\u001b[0;32m      3\u001b[0m plt\u001b[38;5;241m.\u001b[39mshow()\n\u001b[0;32m      5\u001b[0m sns\u001b[38;5;241m.\u001b[39mheatmap(the_df\u001b[38;5;241m.\u001b[39mcorr(), cmap\u001b[38;5;241m=\u001b[39m\u001b[38;5;124m\"\u001b[39m\u001b[38;5;124mYlGnBu\u001b[39m\u001b[38;5;124m\"\u001b[39m, annot \u001b[38;5;241m=\u001b[39m \u001b[38;5;28;01mTrue\u001b[39;00m)\n",
                        "\u001b[1;31mNameError\u001b[0m: name 'the_df' is not defined"
                    ]
                }
            ],
            "execution_count": 5
        },
        {
            "cell_type": "markdown",
            "source": [
                "## Create Your Model\n",
                "\n",
                "Use the two columns with the strongest correlation to create and train your model. Make sure to print out the summary and plot the column values and the line produced by the model."
            ],
            "metadata": {
                "azdata_cell_guid": "b75b6098-4152-4701-9136-a8f774c8583e"
            },
            "attachments": {}
        },
        {
            "cell_type": "code",
            "source": [
                ""
            ],
            "metadata": {
                "azdata_cell_guid": "05ecd9c7-e4a4-4d5c-b092-3dff597e96a3",
                "language": "python"
            },
            "outputs": [],
            "execution_count": 1
        },
        {
            "cell_type": "code",
            "source": [
                ""
            ],
            "metadata": {
                "azdata_cell_guid": "f55fbe86-74b8-44f7-af96-7448e58983d7",
                "tags": [],
                "language": "python"
            },
            "outputs": [],
            "execution_count": 1
        },
        {
            "cell_type": "markdown",
            "source": [
                "## Error Terms\n",
                "\n",
                "Finally, plot your error terms!"
            ],
            "metadata": {
                "azdata_cell_guid": "c021f50d-92b2-4359-b3a9-c47f62f0a94f"
            }
        },
        {
            "cell_type": "code",
            "source": [
                ""
            ],
            "metadata": {
                "azdata_cell_guid": "87480c6c-1bb6-4135-953a-c74ba3da518d",
                "language": "python"
            },
            "outputs": [],
            "execution_count": 1
        },
        {
            "cell_type": "markdown",
            "source": [
                "## Summarize Your Work\n",
                "\n",
                "Make notes of your answers to the questions below.\n",
                "\n",
                "1. What was your R-squared value? 0.638\n",
                "2. Based on your results, do you think a linear regression model was the best type of predictive analysis for your dataset? It was not particularly effective in this case.\n",
                "3. Was your plot of the error terms a bell curve? Not really"
            ],
            "metadata": {
                "azdata_cell_guid": "5fc50d24-c873-4801-87f2-a1e518caf424"
            }
        }
    ]
}